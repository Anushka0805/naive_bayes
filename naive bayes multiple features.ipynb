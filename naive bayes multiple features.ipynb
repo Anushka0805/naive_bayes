{
 "cells": [
  {
   "cell_type": "code",
   "execution_count": 11,
   "metadata": {},
   "outputs": [],
   "source": [
    "#import random\n",
    "import numpy as np\n",
    "import pandas as pd\n",
    "import matplotlib.pyplot as plt"
   ]
  },
  {
   "cell_type": "code",
   "execution_count": 12,
   "metadata": {},
   "outputs": [],
   "source": [
    "def readData (f) :\n",
    "    \n",
    "    data = pd.read_csv(f) #read from dataset\n",
    "   \n",
    "    y=data.iloc[:,3]\n",
    "\n",
    "    Xwe = data.iloc[:,0] # read first column\n",
    "    Xhu = data.iloc[:,1]\n",
    "    Xwi = data.iloc[:,2]\n",
    "\n",
    "    return(Xwe,Xhu,Xwi,y)\n",
    "    \n",
    "    "
   ]
  },
  {
   "cell_type": "code",
   "execution_count": 13,
   "metadata": {},
   "outputs": [],
   "source": [
    "\n",
    "X1,X2,X3,y = readData(\"C:\\\\Users\\\\Anushka\\\\Desktop\\\\NBplayallcsv.csv\") #read from dataset. calling readData\n"
   ]
  },
  {
   "cell_type": "code",
   "execution_count": 28,
   "metadata": {},
   "outputs": [],
   "source": [
    "def compute(a,b,c,d): #to compute the probability\n",
    "    \n",
    "\n",
    "    \n",
    "    sn=0\n",
    "    sy=0\n",
    "    on=0\n",
    "    oy=0\n",
    "    rn=0\n",
    "    ry=0\n",
    "    hhn=0\n",
    "    hhy=0\n",
    "    nhn=0\n",
    "    nhy=0\n",
    "    wwn=0\n",
    "    wwy=0\n",
    "    swn=0\n",
    "    swy=0\n",
    "    \n",
    "    for index in range(len(a)):\n",
    "        if a[index] == \"sunny\":  #checking which category\n",
    "            if d[index] == \"no\":\n",
    "                sn=sn+1 #to calculate the number of times there was no play when it was sunny\n",
    "            else:\n",
    "                sy=sy+1 #to calculate the number of times there was play when it was sunny\n",
    "        elif a[index] == \"overcast\": \n",
    "            if d[index] == \"no\":\n",
    "                on=on+1 #to calculate the number of times there was no play when it was overcast\n",
    "            else:\n",
    "                oy=oy+1 #to calculate the number of times there was play when it was overcast\n",
    "        elif a[index] == \"rainy\":\n",
    "            if d[index] == \"no\":\n",
    "                rn=rn+1 #to calculate the number of times there was no play when it was rainy\n",
    "            else:\n",
    "                ry=ry+1 #to calculate the number of times there was no play when it was rainy\n",
    "        else:\n",
    "            print (\"error\")\n",
    "            \n",
    "    for index in range(len(b)): #for the second feature\n",
    "        if b[index] == \"high\": \n",
    "            if d[index] == \"no\": \n",
    "                hhn=hhn+1  #to calculate the number of times there was no play when the humidity was high\n",
    "            else:\n",
    "                hhy=hhy+1  #to calculate the number of times there was play when the humidity was high\n",
    "        elif b[index] == \"normal\":\n",
    "            if d[index] == \"no\":  \n",
    "                nhn=nhn+1   #to calculate the number of times there was no play when the humidity was normal\n",
    "            else:\n",
    "                nhy=nhy+1   #to calculate the number of times there was play when the humidity was normal\n",
    "        else:\n",
    "            print (\"error\")\n",
    "            \n",
    "    for index in range(len(c)): #for the third feature\n",
    "        if c[index] == \"weak\":\n",
    "            if d[index] == \"no\":\n",
    "                wwn=wwn+1 #to calculate the number of times there was no play when the wind was weak\n",
    "            else:\n",
    "                wwy=wwy+1 #to calculate the number of times there was play when the wind was weak\n",
    "        elif c[index] == \"strong\":\n",
    "            if d[index] == \"no\":\n",
    "                swn=swn+1 #to calculate the number of times there was no play when the wind was strong\n",
    "            else:\n",
    "                swy=swy+1  #to calculate the number of times there was play when the wind was strong\n",
    "        else:\n",
    "            print (\"error\")\n",
    "   \n",
    "    \n",
    "    ton=on+sn+rn #total no play wrt the first feature\n",
    "    toy=oy+sy+ry #total play wrt the first feature\n",
    "    thy=hhy+nhy #total play wrt the second feature\n",
    "    thn=hhn+nhn #total no play wrt the second feature\n",
    "    twy=wwy+swy #total play wrt the third feature\n",
    "    twn=wwn+swn #total no play wrt the third feature\n",
    "\n",
    "    #print(thn)\n",
    "    #print(thy)\n",
    "    \n",
    "    probsy = ((sy/toy)*(toy/(ton+toy))/((sn+sy)/(ton+toy))) #calculating P(yes/sunny) using bayes theorem\n",
    "    #probsy = (sy/(sy+sn))\n",
    "    probry = ((ry/toy)*(toy/(ton+toy))/((rn+ry)/(ton+toy))) #calculating P(yes/rainy) using bayes theorem\n",
    "    #probry = (ry/(ry+rn))\n",
    "    proboy = ((oy/toy)*(toy/(ton+toy))/((on+oy)/(ton+toy))) #calculating P(yes/overcast) using bayes theorem\n",
    "    probhhy =((hhy/thy)*(thy/(thn+thy))/((hhn+hhy)/(thn+thy))) #calculating P(yes/high humidity) using bayes theorem\n",
    "    probnhy =((nhy/thy)*(thy/(thn+thy))/((nhn+nhy)/(thn+thy))) #calculating P(yes/normal humidity) using bayes theorem\n",
    "    probwwy =((wwy/twy)*(twy/(twn+twy))/((wwn+wwy)/(twn+twy))) #calculating P(yes/weak wind) using bayes theorem\n",
    "    probswy =((swy/twy)*(twy/(twn+twy))/((swn+swy)/(twn+twy))) #calculating P(yes/strong wind) using bayes theorem\n",
    "   \n",
    "    \n",
    "    return(probsy,probry,proboy,probhhy,probnhy,probwwy,probswy) #returning all the probabilities"
   ]
  },
  {
   "cell_type": "code",
   "execution_count": 29,
   "metadata": {},
   "outputs": [
    {
     "data": {
      "text/plain": [
       "(0.39999999999999997,\n",
       " 0.6,\n",
       " 1.0,\n",
       " 0.4285714285714286,\n",
       " 0.8571428571428572,\n",
       " 0.7500000000000001,\n",
       " 0.5000000000000001)"
      ]
     },
     "execution_count": 29,
     "metadata": {},
     "output_type": "execute_result"
    }
   ],
   "source": [
    "compute(X1,X2,X3,y) #calling the function"
   ]
  },
  {
   "cell_type": "code",
   "execution_count": 30,
   "metadata": {},
   "outputs": [],
   "source": [
    "#print(\"testing\")\n",
    "#compute(X1t,X2t,X3t,yt)"
   ]
  },
  {
   "cell_type": "code",
   "execution_count": 33,
   "metadata": {},
   "outputs": [],
   "source": [
    "def testing(s1,s2,s3) : #for testing.\n",
    "    \n",
    "    p1=0\n",
    "    p2=0\n",
    "    p3=0\n",
    "    p4=p5=p6=p7=0\n",
    "    \n",
    "    p1,p2,p3,p4,p5,p6,p7=compute(X1,X2,X3,y) #calling function compute\n",
    "    \n",
    "    #generalising it a bit.\n",
    "    #checking which of the first features is considered\n",
    "    if s1==\"sunny\": \n",
    "        p1=p1\n",
    "    elif s1 ==\"rainy\":\n",
    "        p1=p2\n",
    "    elif s1 == \"overcast\":\n",
    "        p1=p3\n",
    "    else:\n",
    "        print(\"error\")\n",
    "    #checking which of the second features is considered\n",
    "    if s2==\"high\":\n",
    "        p2=p4\n",
    "    elif s2==\"normal\":\n",
    "        p2=p5\n",
    "    else:\n",
    "        print(\"error\")\n",
    "    #checking which of the third features is considered    \n",
    "    if s3==\"weak\":\n",
    "        p3=p6\n",
    "    elif s3==\"strong\":\n",
    "        p3=p7\n",
    "    else:\n",
    "        print(\"error\")\n",
    "        \n",
    "    print(\"probability of play when the weather is \"+s1+\",humidity is \"+s2+\" and wind is \"+s3+\" is:\") #considering the specific case of s1,s2 and s3\n",
    "    print(p1*p2*p3) #calculating and printing the total probability for s1,s2 and s3\n",
    "    #print(p2)\n",
    "   # print(p3)\n",
    "    "
   ]
  },
  {
   "cell_type": "code",
   "execution_count": 39,
   "metadata": {},
   "outputs": [
    {
     "name": "stdout",
     "output_type": "stream",
     "text": [
      "probability of play when the weather is overcast,humidity is normal and wind is weak is:\n",
      "0.642857142857143\n"
     ]
    }
   ],
   "source": [
    "testing(\"overcast\",\"normal\",\"weak\") #testing for a specific case"
   ]
  },
  {
   "cell_type": "code",
   "execution_count": null,
   "metadata": {},
   "outputs": [],
   "source": []
  }
 ],
 "metadata": {
  "kernelspec": {
   "display_name": "Python 3",
   "language": "python",
   "name": "python3"
  },
  "language_info": {
   "codemirror_mode": {
    "name": "ipython",
    "version": 3
   },
   "file_extension": ".py",
   "mimetype": "text/x-python",
   "name": "python",
   "nbconvert_exporter": "python",
   "pygments_lexer": "ipython3",
   "version": "3.6.5"
  }
 },
 "nbformat": 4,
 "nbformat_minor": 2
}
