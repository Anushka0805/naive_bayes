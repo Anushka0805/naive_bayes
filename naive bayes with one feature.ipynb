{
 "cells": [
  {
   "cell_type": "code",
   "execution_count": 1,
   "metadata": {},
   "outputs": [],
   "source": [
    "import random\n",
    "import numpy as np\n",
    "import pandas as pd\n",
    "import matplotlib.pyplot as plt"
   ]
  },
  {
   "cell_type": "code",
   "execution_count": 2,
   "metadata": {},
   "outputs": [],
   "source": [
    "def readData (f) :\n",
    "    \n",
    "    data = pd.read_table(f) #read from dataset\n",
    "\n",
    "    #random.shuffle(data)\n",
    "    X = data.iloc[:,0]\n",
    "    y=data.iloc[:,1]\n",
    "    m = len(y)\n",
    "    \n",
    "    Xtrain = data.iloc[:7,0] # read first column\n",
    "    Xtest = data.iloc[7:,0]\n",
    "    for index in range(0,7):\n",
    "        Xtest[index]=X[index+7]\n",
    "   \n",
    "    ytrain = data.iloc[:7,1] # read second column\n",
    "    ytest = data.iloc[7:,1]\n",
    "    for index in range(0,7):\n",
    "        ytest[index]=y[index+7]\n",
    "   \n",
    "    return(Xtrain,ytrain,Xtest,ytest)\n",
    "    "
   ]
  },
  {
   "cell_type": "code",
   "execution_count": 3,
   "metadata": {},
   "outputs": [],
   "source": [
    "X,y,Xt,yt = readData(\"E:\\\\project\\\\basics\\\\NBplay2.txt\") #read from dataset\n"
   ]
  },
  {
   "cell_type": "code",
   "execution_count": 4,
   "metadata": {},
   "outputs": [],
   "source": [
    "def compute(X, y):\n",
    "    sn=0\n",
    "    sy=0\n",
    "    on=0\n",
    "    oy=0\n",
    "    rn=0\n",
    "    ry=0\n",
    "    for index in range(len(X)):\n",
    "        if X[index] == \"sunny\":\n",
    "            if y[index] == \"no\":\n",
    "                sn=sn+1\n",
    "            else:\n",
    "                sy=sy+1\n",
    "        elif X[index] == \"overcast\":\n",
    "            if y[index] == \"no\":\n",
    "                on=on+1\n",
    "            else:\n",
    "                oy=oy+1\n",
    "        elif X[index] == \"rainy\":\n",
    "            if y[index] == \"no\":\n",
    "                rn=rn+1\n",
    "            else:\n",
    "                ry=ry+1\n",
    "        else:\n",
    "            print (\"error\")\n",
    "  \n",
    "    \n",
    "    tn=on+sn+rn\n",
    "    ty=oy+sy+ry\n",
    "\n",
    "  \n",
    "    \n",
    "    probsy = ((sy/ty)*(ty/(tn+ty))/((sn+sy)/(tn+ty)))\n",
    "    probry = ((ry/ty)*(ty/(tn+ty))/((rn+ry)/(tn+ty)))\n",
    "    proboy = ((oy/ty)*(ty/(tn+ty))/((on+oy)/(tn+ty)))\n",
    "                                   \n",
    "    print (\"probability of play when sunny\")\n",
    "    print(probsy)\n",
    "    print (\"probability of play when rainy\")\n",
    "    print (probry)\n",
    "    print (\"probability of play when overcast\")\n",
    "    print (proboy)"
   ]
  },
  {
   "cell_type": "code",
   "execution_count": 5,
   "metadata": {},
   "outputs": [
    {
     "name": "stdout",
     "output_type": "stream",
     "text": [
      "probability of play when sunny\n",
      "0.6666666666666669\n",
      "probability of play when rainy\n",
      "0.5000000000000001\n",
      "probability of play when overcast\n",
      "1.0000000000000002\n"
     ]
    }
   ],
   "source": [
    "compute(X,y)"
   ]
  },
  {
   "cell_type": "code",
   "execution_count": 6,
   "metadata": {},
   "outputs": [
    {
     "name": "stdout",
     "output_type": "stream",
     "text": [
      "testing\n",
      "probability of play when sunny\n",
      "0.5\n",
      "probability of play when rainy\n",
      "0.3333333333333333\n",
      "probability of play when overcast\n",
      "1.0\n"
     ]
    }
   ],
   "source": [
    "print(\"testing\")\n",
    "compute(Xt,yt)"
   ]
  }
 ],
 "metadata": {
  "kernelspec": {
   "display_name": "Python 3",
   "language": "python",
   "name": "python3"
  },
  "language_info": {
   "codemirror_mode": {
    "name": "ipython",
    "version": 3
   },
   "file_extension": ".py",
   "mimetype": "text/x-python",
   "name": "python",
   "nbconvert_exporter": "python",
   "pygments_lexer": "ipython3",
   "version": "3.6.5"
  }
 },
 "nbformat": 4,
 "nbformat_minor": 2
}
